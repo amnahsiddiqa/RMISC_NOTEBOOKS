{
 "cells": [
  {
   "cell_type": "markdown",
   "metadata": {},
   "source": [
    "\n",
    "### Timing binning arrays requiring statitics for both; given same grid range from single array data points\n",
    "\n",
    "Amnah Siddiqa - 09022021\n",
    "\n"
   ]
  },
  {
   "cell_type": "code",
   "execution_count": 1,
   "metadata": {},
   "outputs": [],
   "source": [
    "import pandas as pd\n",
    "import sys\n",
    "import os \n",
    "import numpy as np\n",
    "from scipy import stats\n",
    "import time"
   ]
  },
  {
   "cell_type": "markdown",
   "metadata": {},
   "source": [
    "#### My parameters memory ref\n",
    "- bins int or sequence of scalars, optional\n",
    "    \n",
    "    If bins is an int, it defines the number of equal-width bins in the given range (10 by default). \n",
    "    \n",
    "    If bins is a sequence, it defines the **bin edges**, including the rightmost edge, allowing for non-uniform bin widths. Values in x that are smaller than lowest bin edge are assigned to bin number 0, values beyond the highest bin are assigned to bins[-1]. If the bin edges are specified, the number of bins will be, (nx = len(bins)-1)\n",
    "    \n",
    "- x(N,) array_like\n",
    "    A sequence of values to be binned.\n",
    "\n",
    "- **values(N,)** array_like or list of (N,) array_like\n",
    "    The data on which the statistic will be computed. This must be the same shape as x, or a set of sequences - each the same shape as x. If values is a set of sequences, the statistic will be computed on each independently.  \n",
    "        "
   ]
  },
  {
   "cell_type": "code",
   "execution_count": 2,
   "metadata": {},
   "outputs": [],
   "source": [
    "data = np.loadtxt(\"/Users/siddia/Desktop/TestBinning/mzpos_All_09022021.txt\",)"
   ]
  },
  {
   "cell_type": "code",
   "execution_count": 3,
   "metadata": {},
   "outputs": [
    {
     "name": "stdout",
     "output_type": "stream",
     "text": [
      "shape of data: (416137, 2)\n",
      "datatype of data: float64\n"
     ]
    }
   ],
   "source": [
    "print(\"shape of data:\",data.shape)\n",
    "\n",
    "print(\"datatype of data:\",data.dtype)"
   ]
  },
  {
   "cell_type": "code",
   "execution_count": 4,
   "metadata": {},
   "outputs": [],
   "source": [
    "#get the mass column in mass\n",
    "mass=data[:,0]"
   ]
  },
  {
   "cell_type": "code",
   "execution_count": 5,
   "metadata": {},
   "outputs": [],
   "source": [
    "density=data[:,1]"
   ]
  },
  {
   "cell_type": "code",
   "execution_count": 6,
   "metadata": {},
   "outputs": [
    {
     "data": {
      "text/plain": [
       "array([  50.058 ,   50.0581,   50.0582, ..., 1192.1485, 1192.1486,\n",
       "       1192.1487])"
      ]
     },
     "execution_count": 6,
     "metadata": {},
     "output_type": "execute_result"
    }
   ],
   "source": [
    "ranges=np.arange(np.min(mass), np.max(mass)+0.0001, 0.0001)  #[0, 0.1, 0.2, 0.3 ...]\n",
    "ranges=np.round(ranges , decimals=4)\n",
    "\n",
    "ranges"
   ]
  },
  {
   "cell_type": "markdown",
   "metadata": {},
   "source": [
    "#median takes more time because by defult it flattens each  group orn bin \n",
    "You're right, the issue is that axis=0 isn't passed in by default (and perhaps it should be... although it may be difficult to know what to pass in as default for arbitrary functions?).\n",
    "\n",
    "As median flattens the array (and produces a number), and since:\n",
    "\n",
    "test_g.aggregate(lambda x: 8)\n",
    "makes everything 8, this behaviour is \"expected\" in some sense (and sometimes might be what you want) so we probably don't want an exception...?"
   ]
  },
  {
   "cell_type": "markdown",
   "metadata": {},
   "source": [
    "### With Scipy solution  "
   ]
  },
  {
   "cell_type": "code",
   "execution_count": 7,
   "metadata": {},
   "outputs": [
    {
     "name": "stdout",
     "output_type": "stream",
     "text": [
      "--- 302.328901052475 seconds ---\n"
     ]
    }
   ],
   "source": [
    "start_time = time.time()\n",
    "mymed, myedges, mybins = stats.binned_statistic(mass,mass, statistic='median', bins=ranges)\n",
    "print(\"--- %s seconds ---\" % (time.time() - start_time))"
   ]
  },
  {
   "cell_type": "code",
   "execution_count": 8,
   "metadata": {},
   "outputs": [
    {
     "data": {
      "text/plain": [
       "(11420907,)"
      ]
     },
     "execution_count": 8,
     "metadata": {},
     "output_type": "execute_result"
    }
   ],
   "source": [
    "mymed.shape"
   ]
  },
  {
   "cell_type": "code",
   "execution_count": 9,
   "metadata": {},
   "outputs": [
    {
     "data": {
      "text/plain": [
       "array([  50.058 ,   50.0581,   50.0582, ...,       nan,       nan,\n",
       "       1192.1487])"
      ]
     },
     "execution_count": 9,
     "metadata": {},
     "output_type": "execute_result"
    }
   ],
   "source": [
    "mymed"
   ]
  },
  {
   "cell_type": "code",
   "execution_count": 10,
   "metadata": {},
   "outputs": [],
   "source": [
    "mymed, myedges, mybins = stats.binned_statistic(mass,density, statistic='sum', bins=ranges)"
   ]
  },
  {
   "cell_type": "code",
   "execution_count": 11,
   "metadata": {},
   "outputs": [
    {
     "data": {
      "text/plain": [
       "array([0.23, 0.22, 0.21, ..., 0.  , 0.  , 0.07])"
      ]
     },
     "execution_count": 11,
     "metadata": {},
     "output_type": "execute_result"
    }
   ],
   "source": [
    "mymed"
   ]
  },
  {
   "cell_type": "code",
   "execution_count": 12,
   "metadata": {},
   "outputs": [
    {
     "data": {
      "text/plain": [
       "(11420907,)"
      ]
     },
     "execution_count": 12,
     "metadata": {},
     "output_type": "execute_result"
    }
   ],
   "source": [
    "mymed.shape"
   ]
  },
  {
   "cell_type": "code",
   "execution_count": 14,
   "metadata": {},
   "outputs": [],
   "source": [
    "#preffered way\n",
    "def twocalls():\n",
    "    means, bin_edges, binnumber = stats.binned_statistic(\n",
    "        x, values=x, statistic='mean', bins=bins)\n",
    "    medians, bin_edges, binnumber = stats.binned_statistic(\n",
    "        x, values=x, statistic='median', bins=bins)\n",
    "    return means, medians"
   ]
  },
  {
   "cell_type": "markdown",
   "metadata": {},
   "source": [
    "### With numpy.digitize solution"
   ]
  },
  {
   "cell_type": "code",
   "execution_count": 13,
   "metadata": {},
   "outputs": [
    {
     "name": "stdout",
     "output_type": "stream",
     "text": [
      "--- 152.00651907920837 seconds ---\n"
     ]
    }
   ],
   "source": [
    "\n",
    "start_time = time.time()\n",
    "### With numpy.digitize\n",
    "import numpy as np\n",
    "#get the mass column in mass\n",
    "mass=data[:,0]\n",
    "density=data[:,1]\n",
    "bins=ranges\n",
    "#x = np.tile(np.array([0.2, 9., 6.4, 3.0, 1.6]), 100000)\n",
    "#bins = np.array([0.0, 1.0, 2.5, 10.0])\n",
    "\n",
    "def binstats(x,y, bins):\n",
    "    \n",
    "    inds = np.digitize(x, bins)\n",
    "    statistics = []\n",
    "    #statisticsSum = []\n",
    "\n",
    "\n",
    "    \n",
    "    binnumber = []\n",
    "    seen = set()\n",
    "    for bin_idx in inds:\n",
    "        if bin_idx not in seen:\n",
    "            bin_arr_mass = mass[inds==bin_idx]\n",
    "            bin_arr_dens = density[inds==bin_idx]\n",
    "            statistics.append([np.median(bin_arr_mass), np.median(bin_arr_dens)])\n",
    "            binnumber.append(bin_idx)\n",
    "            seen.add(bin_idx)\n",
    "    return statistics, binnumber\n",
    "\n",
    "statistics, binnumber = binstats(mass,density, bins)\n",
    "#for (mean, median), bin_idx in zip(statistics, binnumber):\n",
    "#   print('{b}: {mean:.2f} {median:.2f}'.format(b=bin_idx, mean=mean, median=median))\n",
    "print(\"--- %s seconds ---\" % (time.time() - start_time))"
   ]
  },
  {
   "cell_type": "code",
   "execution_count": 15,
   "metadata": {},
   "outputs": [
    {
     "name": "stdout",
     "output_type": "stream",
     "text": [
      "[[50.058, 0.23], [50.0581, 0.22], [50.0582, 0.21]]\n"
     ]
    }
   ],
   "source": [
    "print(statistics[:3]) "
   ]
  },
  {
   "cell_type": "markdown",
   "metadata": {},
   "source": [
    "### References\n",
    "https://numpy.org/doc/stable/reference/generated/numpy.digitize.html\n",
    "\n",
    "https://docs.scipy.org/doc/scipy/reference/generated/scipy.stats.binned_statistic.html\n",
    "\n",
    "https://stackoverflow.com/questions/23070329/can-numpys-digitize-function-output-the-mean-or-median\n",
    "\n",
    "\n",
    "#### median calculations problems\n",
    "https://github.com/pandas-dev/pandas/issues/1989"
   ]
  },
  {
   "cell_type": "code",
   "execution_count": null,
   "metadata": {},
   "outputs": [],
   "source": []
  }
 ],
 "metadata": {
  "kernelspec": {
   "display_name": "Python 3",
   "language": "python",
   "name": "python3"
  },
  "language_info": {
   "codemirror_mode": {
    "name": "ipython",
    "version": 3
   },
   "file_extension": ".py",
   "mimetype": "text/x-python",
   "name": "python",
   "nbconvert_exporter": "python",
   "pygments_lexer": "ipython3",
   "version": "3.8.3"
  }
 },
 "nbformat": 4,
 "nbformat_minor": 4
}
